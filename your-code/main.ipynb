{
 "cells": [
  {
   "cell_type": "markdown",
   "metadata": {},
   "source": [
    "# Probability"
   ]
  },
  {
   "cell_type": "markdown",
   "metadata": {},
   "source": [
    "## Challenge 1\n",
    "There is a box with 10 white balls, 12 red balls and 8 black balls. Calculate the probability of:\n",
    "* Taking a white ball out.\n",
    "* Taking a white ball on first extraction and a black ball out on second extraction without replacing the first one.\n",
    "* Taking a white ball on first extraction and a black ball out on second extraction replacing the first one.\n",
    "* Taking 3 balls and them being all different colours."
   ]
  },
  {
   "cell_type": "code",
   "execution_count": 8,
   "metadata": {},
   "outputs": [
    {
     "name": "stdout",
     "output_type": "stream",
     "text": [
      "0.23645320197044334\n"
     ]
    }
   ],
   "source": [
    "# YOUR CODE HERE\n",
    "n_white =10; n_red = 12; n_black = 8;\n",
    "n_total = n_white + n_red + n_black;\n",
    "prob_whiteball = n_white/n_total;\n",
    "prob_blackball_withoutreplacement = n_black/(n_total-1); #after white ball taken first\n",
    "prob_blackball_withreplacement = n_black/n_total;\n",
    "prob_whiteballfirst_blackballsecond = prob_whiteball*prob_blackball_withoutreplacement; #independent events\n",
    "prob_whiteballfirst_blackballsecondwithreplacement = prob_whiteball*prob_blackball_withreplacement;\n",
    "prob_allthreecolors =  6*(prob_whiteball*prob_blackball_withoutreplacement*(n_red/(n_total-2)))\n",
    "print(prob_allthreecolors)"
   ]
  },
  {
   "cell_type": "markdown",
   "metadata": {},
   "source": [
    "## Challenge 2\n",
    "\n",
    "You want to go on picnic on Saturday. You hate rain, and would know to plan your weekend. To help you make a decision, you gather the following data about rainy days:\n",
    "\n",
    "* 40% of all days are cloudy.\n",
    "* About 50% of cloudy days are rainy. \n",
    "* About 20% of non-cloudy days are rainy.\n",
    "\n",
    "What is the chance of rain during next Saturday?"
   ]
  },
  {
   "cell_type": "code",
   "execution_count": 10,
   "metadata": {},
   "outputs": [
    {
     "name": "stdout",
     "output_type": "stream",
     "text": [
      "0.32\n"
     ]
    }
   ],
   "source": [
    "# YOUR CODE HERE\n",
    "p_c=0.4\n",
    "p_nc = 1-p_c;\n",
    "p_randc = 0.5;\n",
    "p_randnc = 0.2;\n",
    "p_r = p_randc*p_c + p_randnc*p_nc\n",
    "print(p_r)"
   ]
  },
  {
   "cell_type": "markdown",
   "metadata": {},
   "source": [
    "## Challenge 3\n",
    "\n",
    "A and B are events of a probability such that $P(A) = 0.3$, $P(B) = 0.6$ and $P(A \\cap B) = 0.1$\n",
    "\n",
    "Which of the following statements are true?  \n",
    "**HINT: draw a big Venn Diagram by your side**  \n",
    "* $P(\\overline{A}) = 0.7$\n",
    "* $P(A \\cup B) = 0.6$\n",
    "* $P(A \\cap \\overline{B}) = 0.2$\n",
    "* $P(A \\cup \\overline{A}) = 1$  \n",
    "* $P(A \\cap (B \\cup \\overline{B})) = 0.4$\n",
    "* $P(\\overline{A} \\cap \\overline{B}) = 0.3$\n",
    "* $P(\\overline{A \\cap B}) = 0.9$"
   ]
  },
  {
   "cell_type": "code",
   "execution_count": 23,
   "metadata": {},
   "outputs": [
    {
     "name": "stdout",
     "output_type": "stream",
     "text": [
      "Requirement already satisfied: matplotlib-venn in c:\\users\\anirudh unni\\anaconda3\\lib\\site-packages (1.1.2)\n",
      "Requirement already satisfied: matplotlib in c:\\users\\anirudh unni\\anaconda3\\lib\\site-packages (from matplotlib-venn) (3.10.0)\n",
      "Requirement already satisfied: numpy in c:\\users\\anirudh unni\\anaconda3\\lib\\site-packages (from matplotlib-venn) (2.1.3)\n",
      "Requirement already satisfied: scipy in c:\\users\\anirudh unni\\anaconda3\\lib\\site-packages (from matplotlib-venn) (1.15.3)\n",
      "Requirement already satisfied: contourpy>=1.0.1 in c:\\users\\anirudh unni\\anaconda3\\lib\\site-packages (from matplotlib->matplotlib-venn) (1.3.1)\n",
      "Requirement already satisfied: cycler>=0.10 in c:\\users\\anirudh unni\\anaconda3\\lib\\site-packages (from matplotlib->matplotlib-venn) (0.11.0)\n",
      "Requirement already satisfied: fonttools>=4.22.0 in c:\\users\\anirudh unni\\anaconda3\\lib\\site-packages (from matplotlib->matplotlib-venn) (4.55.3)\n",
      "Requirement already satisfied: kiwisolver>=1.3.1 in c:\\users\\anirudh unni\\anaconda3\\lib\\site-packages (from matplotlib->matplotlib-venn) (1.4.8)\n",
      "Requirement already satisfied: packaging>=20.0 in c:\\users\\anirudh unni\\appdata\\roaming\\python\\python313\\site-packages (from matplotlib->matplotlib-venn) (25.0)\n",
      "Requirement already satisfied: pillow>=8 in c:\\users\\anirudh unni\\anaconda3\\lib\\site-packages (from matplotlib->matplotlib-venn) (11.1.0)\n",
      "Requirement already satisfied: pyparsing>=2.3.1 in c:\\users\\anirudh unni\\anaconda3\\lib\\site-packages (from matplotlib->matplotlib-venn) (3.2.0)\n",
      "Requirement already satisfied: python-dateutil>=2.7 in c:\\users\\anirudh unni\\appdata\\roaming\\python\\python313\\site-packages (from matplotlib->matplotlib-venn) (2.9.0.post0)\n",
      "Requirement already satisfied: six>=1.5 in c:\\users\\anirudh unni\\appdata\\roaming\\python\\python313\\site-packages (from python-dateutil>=2.7->matplotlib->matplotlib-venn) (1.17.0)\n",
      "1. P(not A): 0.7\n",
      "2. P(A or B): 0.7999999999999999\n",
      "3. P(A and not B): 0.19999999999999998\n",
      "4. P(A or not A): 1.0\n",
      "5. P(A and (B or not B)): 0.3\n",
      "6. P(not A and not B): 0.20000000000000007\n",
      "7. P(not (A and B)): 0.9\n"
     ]
    }
   ],
   "source": [
    "# YOUR CODE HERE\n",
    "!pip install matplotlib-venn\n",
    "import matplotlib.pyplot as plt\n",
    "from matplotlib_venn import venn2\n",
    "P_A = 0.3\n",
    "P_B = 0.6\n",
    "P_A_and_B = 0.1\n",
    "P_A_only = P_A - P_A_and_B\n",
    "P_B_only = P_B - P_A_and_B\n",
    "P_neither = 1 - (P_A + P_B - P_A_and_B)\n",
    "P_not_A = 1 - P_A # 1.True\n",
    "P_not_B = 1 - P_B\n",
    "P_not_A_and_not_B = 1 - (P_A + P_B - P_A_and_B)\n",
    "P_not_A_and_B = P_B - P_A_and_B\n",
    "P_A_and_not_B = P_A - P_A_and_B\n",
    "P_A_or_B = P_A + P_B - P_A_and_B\n",
    "P_not_A_and_Both = 1 - P_A_and_B\n",
    "print(\"1. P(not A):\", P_not_A)\n",
    "print(\"2. P(A or B):\", P_A_or_B)\n",
    "print(\"3. P(A and not B):\", P_A_and_not_B)\n",
    "print(\"4. P(A or not A):\", 1.0)\n",
    "print(\"5. P(A and (B or not B)):\", P_A)\n",
    "print(\"6. P(not A and not B):\", P_not_A_and_not_B)\n",
    "print(\"7. P(not (A and B)):\", P_not_A_and_Both)"
   ]
  },
  {
   "cell_type": "markdown",
   "metadata": {},
   "source": [
    "## Challenge 4\n",
    "\n",
    " * If someone flies to China, the probability of getting Covid is 1%  \n",
    " * If someone flies to Italy, the probability of getting Covid is 20%  \n",
    "\n",
    "I roll 1 dice with numbers 1, 2, 3, 4, 5, 6:  \n",
    " * If 1: I fly to Italy\n",
    " * If not 1: I fly to China\n",
    "\n",
    "During my trip, I got Covid. What is the probability that I flew to China?"
   ]
  },
  {
   "cell_type": "code",
   "execution_count": 22,
   "metadata": {},
   "outputs": [
    {
     "name": "stdout",
     "output_type": "stream",
     "text": [
      "The probability that i flew to China is: 0.2\n"
     ]
    }
   ],
   "source": [
    "# YOUR CODE HERE\n",
    "P_china=5/6\n",
    "P_italy=1/6\n",
    "P_covid_china=0.01\n",
    "P_covid_italy=0.2\n",
    "\n",
    "p_china_gotcovid=(P_covid_china*P_china)/(P_covid_china*P_china+P_covid_italy*P_italy)\n",
    "print('The probability that I flew to China is:', p_china_gotcovid)"
   ]
  },
  {
   "cell_type": "markdown",
   "metadata": {},
   "source": [
    "## BONUS\n",
    "\n",
    "You roll 2 dice. What is the probability that the sum of the numbers is 7? And 8? And 9? Then simulate 10000 times and draw a countplot."
   ]
  },
  {
   "cell_type": "markdown",
   "metadata": {},
   "source": [
    "your explanation here"
   ]
  },
  {
   "cell_type": "code",
   "execution_count": null,
   "metadata": {},
   "outputs": [],
   "source": [
    "# YOUR CODE HERE\n"
   ]
  }
 ],
 "metadata": {
  "kernelspec": {
   "display_name": "Python 3 (ipykernel)",
   "language": "python",
   "name": "python3"
  },
  "language_info": {
   "codemirror_mode": {
    "name": "ipython",
    "version": 3
   },
   "file_extension": ".py",
   "mimetype": "text/x-python",
   "name": "python",
   "nbconvert_exporter": "python",
   "pygments_lexer": "ipython3",
   "version": "3.13.5"
  },
  "toc": {
   "base_numbering": 1,
   "nav_menu": {},
   "number_sections": false,
   "sideBar": true,
   "skip_h1_title": false,
   "title_cell": "Table of Contents",
   "title_sidebar": "Contents",
   "toc_cell": false,
   "toc_position": {
    "height": "calc(100% - 180px)",
    "left": "10px",
    "top": "150px",
    "width": "296.475px"
   },
   "toc_section_display": true,
   "toc_window_display": false
  },
  "varInspector": {
   "cols": {
    "lenName": 16,
    "lenType": 16,
    "lenVar": 40
   },
   "kernels_config": {
    "python": {
     "delete_cmd_postfix": "",
     "delete_cmd_prefix": "del ",
     "library": "var_list.py",
     "varRefreshCmd": "print(var_dic_list())"
    },
    "r": {
     "delete_cmd_postfix": ") ",
     "delete_cmd_prefix": "rm(",
     "library": "var_list.r",
     "varRefreshCmd": "cat(var_dic_list()) "
    }
   },
   "types_to_exclude": [
    "module",
    "function",
    "builtin_function_or_method",
    "instance",
    "_Feature"
   ],
   "window_display": false
  }
 },
 "nbformat": 4,
 "nbformat_minor": 4
}
